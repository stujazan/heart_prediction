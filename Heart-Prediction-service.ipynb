{
 "cells": [
  {
   "cell_type": "code",
   "execution_count": 5,
   "id": "5bebfe99",
   "metadata": {},
   "outputs": [],
   "source": [
    "import flask\n",
    "import pandas as pd\n",
    "import joblib\n",
    "import os\n",
    "\n",
    "import sys\n",
    "sys.path.append(\"C:/\")\n",
    "dir = 'C:/Users/rahmata/'"
   ]
  },
  {
   "cell_type": "code",
   "execution_count": 6,
   "id": "bd85e238",
   "metadata": {},
   "outputs": [
    {
     "name": "stdout",
     "output_type": "stream",
     "text": [
      "<module 'ntpath' from 'C:\\\\Users\\\\rahmata\\\\Anaconda3\\\\lib\\\\ntpath.py'>\n"
     ]
    }
   ],
   "source": [
    "print(os.path)"
   ]
  },
  {
   "cell_type": "code",
   "execution_count": null,
   "id": "27058d7e",
   "metadata": {},
   "outputs": [],
   "source": [
    "app = flask.Flask(\"test_service\")\n",
    "\n",
    "@app.route('/heart/predict/', methods=['POST'])\n",
    "def predict() :\n",
    "    data = flask.request.json\n",
    "    print(\"in service\")\n",
    "    print(data)\n",
    "    heart_data = pd.DataFrame(data)\n",
    "    #print(titanic_test.info()) \n",
    "    \n",
    "    model_objects = joblib.load(os.path.join(dir,'heart_predict.pkl') ) \n",
    "    \n",
    "    titanic_test1 = utils.drop_features(titanic_test, ['PassengerId', 'Name', 'Ticket', 'Cabin'])\n",
    "    utils.cast_to_cat(titanic_test1, ['Sex', 'Pclass', 'Embarked'])\n",
    "\n",
    "    cat_features = utils.get_categorical_features(titanic_test1)\n",
    "    #print(cat_features)\n",
    "    cont_features = utils.get_continuous_features(titanic_test1)\n",
    "    #print(cont_features)\n",
    "\n",
    "    titanic_test1[cat_features] = model_objects.get('cat_imputers').transform(titanic_test1[cat_features])\n",
    "    titanic_test1[cont_features] = model_objects.get('cont_imputers').transform(titanic_test1[cont_features])\n",
    "\n",
    "    utils.cast_to_cat(titanic_test1, ['Sex', 'Pclass', 'Embarked'])\n",
    "\n",
    "    titanic_test1['Sex'] = titanic_test1['Sex'].cat.add_categories(['male', 'female'])\n",
    "    titanic_test1['Pclass'] = titanic_test1['Pclass'].cat.add_categories([1,2,3])\n",
    "    titanic_test1['Embarked'] = titanic_test1['Embarked'].cat.add_categories(['S','Q','C'])\n",
    "    #print(titanic_test1.info())\n",
    "\n",
    "    titanic_test2 = utils.ohe(titanic_test1, cat_features)\n",
    "    print(titanic_test2.shape)\n",
    "    X_test = model_objects.get('scaler').transform(titanic_test2)\n",
    "    result = model_objects.get('estimator').predict(X_test)\n",
    "    print(result)\n",
    "    return flask.jsonify(prediction=str(1))  \n",
    "\n",
    "\n",
    "if __name__ == '__main__':\n",
    "       app.run(port=8080)"
   ]
  }
 ],
 "metadata": {
  "kernelspec": {
   "display_name": "Python 3",
   "language": "python",
   "name": "python3"
  },
  "language_info": {
   "codemirror_mode": {
    "name": "ipython",
    "version": 3
   },
   "file_extension": ".py",
   "mimetype": "text/x-python",
   "name": "python",
   "nbconvert_exporter": "python",
   "pygments_lexer": "ipython3",
   "version": "3.8.8"
  }
 },
 "nbformat": 4,
 "nbformat_minor": 5
}
